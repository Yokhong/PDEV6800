{
  "cells": [
    {
      "cell_type": "markdown",
      "id": "68cd9969",
      "metadata": {
        "id": "68cd9969"
      },
      "source": [
        "# Introduction to Turtle Graphics"
      ]
    },
    {
      "cell_type": "markdown",
      "source": [
        "## Python Introduction\n",
        "\n",
        "Here is a quick overview of the Python commands we will need today. Basically, we will learn about turtle graphics, drawing curve, and drawing surface."
      ],
      "metadata": {
        "id": "Jxrc9cQF0bzz"
      },
      "id": "Jxrc9cQF0bzz"
    },
    {
      "cell_type": "markdown",
      "source": [
        "## Activity: Getting to know the turtle\n",
        "\n",
        "In this section, you are going to learn about **Python Graphics** commands.\n",
        "Follow along and enter your commands below. Remember to press `shift+return` to execute a command."
      ],
      "metadata": {
        "id": "4ps6x-ptyJgq"
      },
      "id": "4ps6x-ptyJgq"
    },
    {
      "cell_type": "markdown",
      "source": [
        "## 1. Turtle Graphics"
      ],
      "metadata": {
        "id": "Bl8etFXpuryJ"
      },
      "id": "Bl8etFXpuryJ"
    },
    {
      "cell_type": "markdown",
      "source": [
        "The `initializeTurtle()` function will create a turtle for us!\n",
        "<br>If you already have a turtle, the `intializeTurtle()` function will erase your turtle's history so that you can start over."
      ],
      "metadata": {
        "id": "c61AFbt0xqNn"
      },
      "id": "c61AFbt0xqNn"
    },
    {
      "cell_type": "code",
      "source": [
        "!pip3 install ColabTurtle\n",
        "from ColabTurtle.Turtle import *\n",
        "import ColabTurtle.Turtle as t\n",
        "initializeTurtle()"
      ],
      "metadata": {
        "colab": {
          "base_uri": "https://localhost:8080/",
          "height": 559
        },
        "id": "dmNY_07wwGBa",
        "outputId": "c7445254-426b-4fdb-c3b2-d54df3bbbe5e"
      },
      "id": "dmNY_07wwGBa",
      "execution_count": 52,
      "outputs": [
        {
          "output_type": "stream",
          "name": "stdout",
          "text": [
            "Requirement already satisfied: ColabTurtle in /usr/local/lib/python3.10/dist-packages (2.1.0)\n"
          ]
        },
        {
          "output_type": "display_data",
          "data": {
            "text/plain": [
              "<IPython.core.display.HTML object>"
            ],
            "text/html": [
              "\n",
              "      <svg width=\"800\" height=\"500\">\n",
              "        <rect width=\"100%\" height=\"100%\" fill=\"black\"/>\n",
              "        \n",
              "        <g visibility=visible transform=\"rotate(360,400,250) translate(382, 232)\">\n",
              "<path style=\" stroke:none;fill-rule:evenodd;fill:white;fill-opacity:1;\" d=\"M 18.214844 0.632812 C 16.109375 1.800781 15.011719 4.074219 15.074219 7.132812 L 15.085938 7.652344 L 14.785156 7.496094 C 13.476562 6.824219 11.957031 6.671875 10.40625 7.066406 C 8.46875 7.550781 6.515625 9.15625 4.394531 11.992188 C 3.0625 13.777344 2.679688 14.636719 3.042969 15.027344 L 3.15625 15.152344 L 3.519531 15.152344 C 4.238281 15.152344 4.828125 14.886719 8.1875 13.039062 C 9.386719 12.378906 10.371094 11.839844 10.378906 11.839844 C 10.386719 11.839844 10.355469 11.929688 10.304688 12.035156 C 9.832031 13.09375 9.257812 14.820312 8.96875 16.078125 C 7.914062 20.652344 8.617188 24.53125 11.070312 27.660156 C 11.351562 28.015625 11.363281 27.914062 10.972656 28.382812 C 8.925781 30.84375 7.945312 33.28125 8.238281 35.1875 C 8.289062 35.527344 8.28125 35.523438 8.917969 35.523438 C 10.941406 35.523438 13.074219 34.207031 15.136719 31.6875 C 15.359375 31.417969 15.328125 31.425781 15.5625 31.574219 C 16.292969 32.042969 18.023438 32.964844 18.175781 32.964844 C 18.335938 32.964844 19.941406 32.210938 20.828125 31.71875 C 20.996094 31.625 21.136719 31.554688 21.136719 31.558594 C 21.203125 31.664062 21.898438 32.414062 22.222656 32.730469 C 23.835938 34.300781 25.5625 35.132812 27.582031 35.300781 C 27.90625 35.328125 27.9375 35.308594 28.007812 34.984375 C 28.382812 33.242188 27.625 30.925781 25.863281 28.425781 L 25.542969 27.96875 L 25.699219 27.785156 C 28.945312 23.960938 29.132812 18.699219 26.257812 11.96875 L 26.207031 11.84375 L 27.945312 12.703125 C 31.53125 14.476562 32.316406 14.800781 33.03125 14.800781 C 33.976562 14.800781 33.78125 13.9375 32.472656 12.292969 C 28.519531 7.355469 25.394531 5.925781 21.921875 7.472656 L 21.558594 7.636719 L 21.578125 7.542969 C 21.699219 6.992188 21.761719 5.742188 21.699219 5.164062 C 21.496094 3.296875 20.664062 1.964844 19.003906 0.855469 C 18.480469 0.503906 18.457031 0.5 18.214844 0.632812\"/>\n",
              "</g>\n",
              "      </svg>\n",
              "    "
            ]
          },
          "metadata": {}
        }
      ]
    },
    {
      "cell_type": "markdown",
      "source": [
        "<br/><br/>\n",
        "Next, we're going to learn about *for loops*. For loops are super important in computer science. They tell the computer to repeat something *for* a certain number of times.\n",
        "\n",
        "Below is an example for loop. What do you think it does? Run the cell to find out! You can change `10` or `hi` if you want (but if you change `hi` make sure that you keep the quotation marks around whatever you type instead!).\n"
      ],
      "metadata": {
        "id": "9gGp8wFf6DHV"
      },
      "id": "9gGp8wFf6DHV"
    },
    {
      "cell_type": "code",
      "source": [
        "for i in range(10):\n",
        "  print(\"hi\")"
      ],
      "metadata": {
        "id": "UFSR6Fyv6E1o",
        "outputId": "a69f9b54-fcd4-4d43-b5e0-04be04f6be6e",
        "colab": {
          "base_uri": "https://localhost:8080/"
        }
      },
      "id": "UFSR6Fyv6E1o",
      "execution_count": 53,
      "outputs": [
        {
          "output_type": "stream",
          "name": "stdout",
          "text": [
            "hi\n",
            "hi\n",
            "hi\n",
            "hi\n",
            "hi\n",
            "hi\n",
            "hi\n",
            "hi\n",
            "hi\n",
            "hi\n"
          ]
        }
      ]
    },
    {
      "cell_type": "markdown",
      "source": [
        "<br/><br/>\n",
        "Now that we know about for loops, we're going to see how to use a for loop to draw a square with our turtle.\n",
        "\n",
        "What shape do you think this for loop will draw? Can you change the numbers to draw a different shape?"
      ],
      "metadata": {
        "id": "VEAeWi406MRB"
      },
      "id": "VEAeWi406MRB"
    },
    {
      "cell_type": "code",
      "source": [
        "side_length = 100\n",
        "angle = 360/4\n",
        "\n",
        "for i in range(4):\n",
        "  forward(side_length)\n",
        "  right(angle)"
      ],
      "metadata": {
        "id": "9k6z7idK6NNJ",
        "outputId": "c976db81-b6d2-4b89-d6b5-92de5e0be26f",
        "colab": {
          "base_uri": "https://localhost:8080/",
          "height": 541
        }
      },
      "id": "9k6z7idK6NNJ",
      "execution_count": 54,
      "outputs": [
        {
          "output_type": "display_data",
          "data": {
            "text/plain": [
              "<IPython.core.display.HTML object>"
            ],
            "text/html": [
              "\n",
              "      <svg width=\"800\" height=\"500\">\n",
              "        <rect width=\"100%\" height=\"100%\" fill=\"black\"/>\n",
              "        <line x1=\"400\" y1=\"250\" x2=\"400.0\" y2=\"150.0\" stroke-linecap=\"round\" style=\"stroke:white;stroke-width:4\"/><line x1=\"400.0\" y1=\"150.0\" x2=\"500.0\" y2=\"150.0\" stroke-linecap=\"round\" style=\"stroke:white;stroke-width:4\"/><line x1=\"500.0\" y1=\"150.0\" x2=\"500.0\" y2=\"250.0\" stroke-linecap=\"round\" style=\"stroke:white;stroke-width:4\"/><line x1=\"500.0\" y1=\"250.0\" x2=\"400.0\" y2=\"250.0\" stroke-linecap=\"round\" style=\"stroke:white;stroke-width:4\"/>\n",
              "        <g visibility=visible transform=\"rotate(360.0,400.0,250.0) translate(382.0, 232.0)\">\n",
              "<path style=\" stroke:none;fill-rule:evenodd;fill:white;fill-opacity:1;\" d=\"M 18.214844 0.632812 C 16.109375 1.800781 15.011719 4.074219 15.074219 7.132812 L 15.085938 7.652344 L 14.785156 7.496094 C 13.476562 6.824219 11.957031 6.671875 10.40625 7.066406 C 8.46875 7.550781 6.515625 9.15625 4.394531 11.992188 C 3.0625 13.777344 2.679688 14.636719 3.042969 15.027344 L 3.15625 15.152344 L 3.519531 15.152344 C 4.238281 15.152344 4.828125 14.886719 8.1875 13.039062 C 9.386719 12.378906 10.371094 11.839844 10.378906 11.839844 C 10.386719 11.839844 10.355469 11.929688 10.304688 12.035156 C 9.832031 13.09375 9.257812 14.820312 8.96875 16.078125 C 7.914062 20.652344 8.617188 24.53125 11.070312 27.660156 C 11.351562 28.015625 11.363281 27.914062 10.972656 28.382812 C 8.925781 30.84375 7.945312 33.28125 8.238281 35.1875 C 8.289062 35.527344 8.28125 35.523438 8.917969 35.523438 C 10.941406 35.523438 13.074219 34.207031 15.136719 31.6875 C 15.359375 31.417969 15.328125 31.425781 15.5625 31.574219 C 16.292969 32.042969 18.023438 32.964844 18.175781 32.964844 C 18.335938 32.964844 19.941406 32.210938 20.828125 31.71875 C 20.996094 31.625 21.136719 31.554688 21.136719 31.558594 C 21.203125 31.664062 21.898438 32.414062 22.222656 32.730469 C 23.835938 34.300781 25.5625 35.132812 27.582031 35.300781 C 27.90625 35.328125 27.9375 35.308594 28.007812 34.984375 C 28.382812 33.242188 27.625 30.925781 25.863281 28.425781 L 25.542969 27.96875 L 25.699219 27.785156 C 28.945312 23.960938 29.132812 18.699219 26.257812 11.96875 L 26.207031 11.84375 L 27.945312 12.703125 C 31.53125 14.476562 32.316406 14.800781 33.03125 14.800781 C 33.976562 14.800781 33.78125 13.9375 32.472656 12.292969 C 28.519531 7.355469 25.394531 5.925781 21.921875 7.472656 L 21.558594 7.636719 L 21.578125 7.542969 C 21.699219 6.992188 21.761719 5.742188 21.699219 5.164062 C 21.496094 3.296875 20.664062 1.964844 19.003906 0.855469 C 18.480469 0.503906 18.457031 0.5 18.214844 0.632812\"/>\n",
              "</g>\n",
              "      </svg>\n",
              "    "
            ]
          },
          "metadata": {}
        }
      ]
    },
    {
      "cell_type": "markdown",
      "source": [
        "<br/><br/>\n",
        "This is *almost* the same for loop that we saw above. Now we have this new line that says `num_sides = 0`. Change the `num_sides` variable from `0` to whatever number of sides you want your shape to have.\n",
        "\n",
        "Can you change the code so that it uses the `num_sides` variable to draw your shape?"
      ],
      "metadata": {
        "id": "xNxJ1Xjm6Sqq"
      },
      "id": "xNxJ1Xjm6Sqq"
    },
    {
      "cell_type": "code",
      "source": [
        "side_length = 100\n",
        "angle = 360/4\n",
        "num_sides = 0\n",
        "\n",
        "for i in range(4):\n",
        "  forward(side_length)\n",
        "  right(angle)"
      ],
      "metadata": {
        "id": "9uxDuMxo6WYC",
        "outputId": "48c005b5-c9a5-4495-c0db-4ec8c00ff397",
        "colab": {
          "base_uri": "https://localhost:8080/",
          "height": 541
        }
      },
      "id": "9uxDuMxo6WYC",
      "execution_count": 55,
      "outputs": [
        {
          "output_type": "display_data",
          "data": {
            "text/plain": [
              "<IPython.core.display.HTML object>"
            ],
            "text/html": [
              "\n",
              "      <svg width=\"800\" height=\"500\">\n",
              "        <rect width=\"100%\" height=\"100%\" fill=\"black\"/>\n",
              "        <line x1=\"400\" y1=\"250\" x2=\"400.0\" y2=\"150.0\" stroke-linecap=\"round\" style=\"stroke:white;stroke-width:4\"/><line x1=\"400.0\" y1=\"150.0\" x2=\"500.0\" y2=\"150.0\" stroke-linecap=\"round\" style=\"stroke:white;stroke-width:4\"/><line x1=\"500.0\" y1=\"150.0\" x2=\"500.0\" y2=\"250.0\" stroke-linecap=\"round\" style=\"stroke:white;stroke-width:4\"/><line x1=\"500.0\" y1=\"250.0\" x2=\"400.0\" y2=\"250.0\" stroke-linecap=\"round\" style=\"stroke:white;stroke-width:4\"/><line x1=\"400.0\" y1=\"250.0\" x2=\"400.0\" y2=\"150.0\" stroke-linecap=\"round\" style=\"stroke:white;stroke-width:4\"/><line x1=\"400.0\" y1=\"150.0\" x2=\"500.0\" y2=\"150.0\" stroke-linecap=\"round\" style=\"stroke:white;stroke-width:4\"/><line x1=\"500.0\" y1=\"150.0\" x2=\"500.0\" y2=\"250.0\" stroke-linecap=\"round\" style=\"stroke:white;stroke-width:4\"/><line x1=\"500.0\" y1=\"250.0\" x2=\"400.0\" y2=\"250.0\" stroke-linecap=\"round\" style=\"stroke:white;stroke-width:4\"/>\n",
              "        <g visibility=visible transform=\"rotate(360.0,400.0,250.0) translate(382.0, 232.0)\">\n",
              "<path style=\" stroke:none;fill-rule:evenodd;fill:white;fill-opacity:1;\" d=\"M 18.214844 0.632812 C 16.109375 1.800781 15.011719 4.074219 15.074219 7.132812 L 15.085938 7.652344 L 14.785156 7.496094 C 13.476562 6.824219 11.957031 6.671875 10.40625 7.066406 C 8.46875 7.550781 6.515625 9.15625 4.394531 11.992188 C 3.0625 13.777344 2.679688 14.636719 3.042969 15.027344 L 3.15625 15.152344 L 3.519531 15.152344 C 4.238281 15.152344 4.828125 14.886719 8.1875 13.039062 C 9.386719 12.378906 10.371094 11.839844 10.378906 11.839844 C 10.386719 11.839844 10.355469 11.929688 10.304688 12.035156 C 9.832031 13.09375 9.257812 14.820312 8.96875 16.078125 C 7.914062 20.652344 8.617188 24.53125 11.070312 27.660156 C 11.351562 28.015625 11.363281 27.914062 10.972656 28.382812 C 8.925781 30.84375 7.945312 33.28125 8.238281 35.1875 C 8.289062 35.527344 8.28125 35.523438 8.917969 35.523438 C 10.941406 35.523438 13.074219 34.207031 15.136719 31.6875 C 15.359375 31.417969 15.328125 31.425781 15.5625 31.574219 C 16.292969 32.042969 18.023438 32.964844 18.175781 32.964844 C 18.335938 32.964844 19.941406 32.210938 20.828125 31.71875 C 20.996094 31.625 21.136719 31.554688 21.136719 31.558594 C 21.203125 31.664062 21.898438 32.414062 22.222656 32.730469 C 23.835938 34.300781 25.5625 35.132812 27.582031 35.300781 C 27.90625 35.328125 27.9375 35.308594 28.007812 34.984375 C 28.382812 33.242188 27.625 30.925781 25.863281 28.425781 L 25.542969 27.96875 L 25.699219 27.785156 C 28.945312 23.960938 29.132812 18.699219 26.257812 11.96875 L 26.207031 11.84375 L 27.945312 12.703125 C 31.53125 14.476562 32.316406 14.800781 33.03125 14.800781 C 33.976562 14.800781 33.78125 13.9375 32.472656 12.292969 C 28.519531 7.355469 25.394531 5.925781 21.921875 7.472656 L 21.558594 7.636719 L 21.578125 7.542969 C 21.699219 6.992188 21.761719 5.742188 21.699219 5.164062 C 21.496094 3.296875 20.664062 1.964844 19.003906 0.855469 C 18.480469 0.503906 18.457031 0.5 18.214844 0.632812\"/>\n",
              "</g>\n",
              "      </svg>\n",
              "    "
            ]
          },
          "metadata": {}
        }
      ]
    },
    {
      "cell_type": "code",
      "source": [
        "t.bgcolor('white')\n",
        "t.color('black')"
      ],
      "metadata": {
        "id": "1Yf5ylyZ0Afm",
        "outputId": "a6db5bfd-e03a-42ef-d41b-ee8c3093eacb",
        "colab": {
          "base_uri": "https://localhost:8080/",
          "height": 541
        }
      },
      "id": "1Yf5ylyZ0Afm",
      "execution_count": 56,
      "outputs": [
        {
          "output_type": "display_data",
          "data": {
            "text/plain": [
              "<IPython.core.display.HTML object>"
            ],
            "text/html": [
              "\n",
              "      <svg width=\"800\" height=\"500\">\n",
              "        <rect width=\"100%\" height=\"100%\" fill=\"white\"/>\n",
              "        <line x1=\"400\" y1=\"250\" x2=\"400.0\" y2=\"150.0\" stroke-linecap=\"round\" style=\"stroke:white;stroke-width:4\"/><line x1=\"400.0\" y1=\"150.0\" x2=\"500.0\" y2=\"150.0\" stroke-linecap=\"round\" style=\"stroke:white;stroke-width:4\"/><line x1=\"500.0\" y1=\"150.0\" x2=\"500.0\" y2=\"250.0\" stroke-linecap=\"round\" style=\"stroke:white;stroke-width:4\"/><line x1=\"500.0\" y1=\"250.0\" x2=\"400.0\" y2=\"250.0\" stroke-linecap=\"round\" style=\"stroke:white;stroke-width:4\"/><line x1=\"400.0\" y1=\"250.0\" x2=\"400.0\" y2=\"150.0\" stroke-linecap=\"round\" style=\"stroke:white;stroke-width:4\"/><line x1=\"400.0\" y1=\"150.0\" x2=\"500.0\" y2=\"150.0\" stroke-linecap=\"round\" style=\"stroke:white;stroke-width:4\"/><line x1=\"500.0\" y1=\"150.0\" x2=\"500.0\" y2=\"250.0\" stroke-linecap=\"round\" style=\"stroke:white;stroke-width:4\"/><line x1=\"500.0\" y1=\"250.0\" x2=\"400.0\" y2=\"250.0\" stroke-linecap=\"round\" style=\"stroke:white;stroke-width:4\"/>\n",
              "        <g visibility=visible transform=\"rotate(360.0,400.0,250.0) translate(382.0, 232.0)\">\n",
              "<path style=\" stroke:none;fill-rule:evenodd;fill:black;fill-opacity:1;\" d=\"M 18.214844 0.632812 C 16.109375 1.800781 15.011719 4.074219 15.074219 7.132812 L 15.085938 7.652344 L 14.785156 7.496094 C 13.476562 6.824219 11.957031 6.671875 10.40625 7.066406 C 8.46875 7.550781 6.515625 9.15625 4.394531 11.992188 C 3.0625 13.777344 2.679688 14.636719 3.042969 15.027344 L 3.15625 15.152344 L 3.519531 15.152344 C 4.238281 15.152344 4.828125 14.886719 8.1875 13.039062 C 9.386719 12.378906 10.371094 11.839844 10.378906 11.839844 C 10.386719 11.839844 10.355469 11.929688 10.304688 12.035156 C 9.832031 13.09375 9.257812 14.820312 8.96875 16.078125 C 7.914062 20.652344 8.617188 24.53125 11.070312 27.660156 C 11.351562 28.015625 11.363281 27.914062 10.972656 28.382812 C 8.925781 30.84375 7.945312 33.28125 8.238281 35.1875 C 8.289062 35.527344 8.28125 35.523438 8.917969 35.523438 C 10.941406 35.523438 13.074219 34.207031 15.136719 31.6875 C 15.359375 31.417969 15.328125 31.425781 15.5625 31.574219 C 16.292969 32.042969 18.023438 32.964844 18.175781 32.964844 C 18.335938 32.964844 19.941406 32.210938 20.828125 31.71875 C 20.996094 31.625 21.136719 31.554688 21.136719 31.558594 C 21.203125 31.664062 21.898438 32.414062 22.222656 32.730469 C 23.835938 34.300781 25.5625 35.132812 27.582031 35.300781 C 27.90625 35.328125 27.9375 35.308594 28.007812 34.984375 C 28.382812 33.242188 27.625 30.925781 25.863281 28.425781 L 25.542969 27.96875 L 25.699219 27.785156 C 28.945312 23.960938 29.132812 18.699219 26.257812 11.96875 L 26.207031 11.84375 L 27.945312 12.703125 C 31.53125 14.476562 32.316406 14.800781 33.03125 14.800781 C 33.976562 14.800781 33.78125 13.9375 32.472656 12.292969 C 28.519531 7.355469 25.394531 5.925781 21.921875 7.472656 L 21.558594 7.636719 L 21.578125 7.542969 C 21.699219 6.992188 21.761719 5.742188 21.699219 5.164062 C 21.496094 3.296875 20.664062 1.964844 19.003906 0.855469 C 18.480469 0.503906 18.457031 0.5 18.214844 0.632812\"/>\n",
              "</g>\n",
              "      </svg>\n",
              "    "
            ]
          },
          "metadata": {}
        }
      ]
    },
    {
      "cell_type": "code",
      "source": [
        "t.forward(10)\n",
        "t.left(10)\n",
        "t.forward(20)\n",
        "t.left(10)"
      ],
      "metadata": {
        "colab": {
          "base_uri": "https://localhost:8080/",
          "height": 541
        },
        "id": "TIjbWZMvvRp1",
        "outputId": "dbe72093-5c51-45d1-d906-ed1ef4841264"
      },
      "id": "TIjbWZMvvRp1",
      "execution_count": 57,
      "outputs": [
        {
          "output_type": "display_data",
          "data": {
            "text/plain": [
              "<IPython.core.display.HTML object>"
            ],
            "text/html": [
              "\n",
              "      <svg width=\"800\" height=\"500\">\n",
              "        <rect width=\"100%\" height=\"100%\" fill=\"white\"/>\n",
              "        <line x1=\"400\" y1=\"250\" x2=\"400.0\" y2=\"150.0\" stroke-linecap=\"round\" style=\"stroke:white;stroke-width:4\"/><line x1=\"400.0\" y1=\"150.0\" x2=\"500.0\" y2=\"150.0\" stroke-linecap=\"round\" style=\"stroke:white;stroke-width:4\"/><line x1=\"500.0\" y1=\"150.0\" x2=\"500.0\" y2=\"250.0\" stroke-linecap=\"round\" style=\"stroke:white;stroke-width:4\"/><line x1=\"500.0\" y1=\"250.0\" x2=\"400.0\" y2=\"250.0\" stroke-linecap=\"round\" style=\"stroke:white;stroke-width:4\"/><line x1=\"400.0\" y1=\"250.0\" x2=\"400.0\" y2=\"150.0\" stroke-linecap=\"round\" style=\"stroke:white;stroke-width:4\"/><line x1=\"400.0\" y1=\"150.0\" x2=\"500.0\" y2=\"150.0\" stroke-linecap=\"round\" style=\"stroke:white;stroke-width:4\"/><line x1=\"500.0\" y1=\"150.0\" x2=\"500.0\" y2=\"250.0\" stroke-linecap=\"round\" style=\"stroke:white;stroke-width:4\"/><line x1=\"500.0\" y1=\"250.0\" x2=\"400.0\" y2=\"250.0\" stroke-linecap=\"round\" style=\"stroke:white;stroke-width:4\"/><line x1=\"400.0\" y1=\"250.0\" x2=\"400.0\" y2=\"240.0\" stroke-linecap=\"round\" style=\"stroke:black;stroke-width:4\"/><line x1=\"400.0\" y1=\"240.0\" x2=\"396.527\" y2=\"220.304\" stroke-linecap=\"round\" style=\"stroke:black;stroke-width:4\"/>\n",
              "        <g visibility=visible transform=\"rotate(340.0,396.527,220.304) translate(378.527, 202.304)\">\n",
              "<path style=\" stroke:none;fill-rule:evenodd;fill:black;fill-opacity:1;\" d=\"M 18.214844 0.632812 C 16.109375 1.800781 15.011719 4.074219 15.074219 7.132812 L 15.085938 7.652344 L 14.785156 7.496094 C 13.476562 6.824219 11.957031 6.671875 10.40625 7.066406 C 8.46875 7.550781 6.515625 9.15625 4.394531 11.992188 C 3.0625 13.777344 2.679688 14.636719 3.042969 15.027344 L 3.15625 15.152344 L 3.519531 15.152344 C 4.238281 15.152344 4.828125 14.886719 8.1875 13.039062 C 9.386719 12.378906 10.371094 11.839844 10.378906 11.839844 C 10.386719 11.839844 10.355469 11.929688 10.304688 12.035156 C 9.832031 13.09375 9.257812 14.820312 8.96875 16.078125 C 7.914062 20.652344 8.617188 24.53125 11.070312 27.660156 C 11.351562 28.015625 11.363281 27.914062 10.972656 28.382812 C 8.925781 30.84375 7.945312 33.28125 8.238281 35.1875 C 8.289062 35.527344 8.28125 35.523438 8.917969 35.523438 C 10.941406 35.523438 13.074219 34.207031 15.136719 31.6875 C 15.359375 31.417969 15.328125 31.425781 15.5625 31.574219 C 16.292969 32.042969 18.023438 32.964844 18.175781 32.964844 C 18.335938 32.964844 19.941406 32.210938 20.828125 31.71875 C 20.996094 31.625 21.136719 31.554688 21.136719 31.558594 C 21.203125 31.664062 21.898438 32.414062 22.222656 32.730469 C 23.835938 34.300781 25.5625 35.132812 27.582031 35.300781 C 27.90625 35.328125 27.9375 35.308594 28.007812 34.984375 C 28.382812 33.242188 27.625 30.925781 25.863281 28.425781 L 25.542969 27.96875 L 25.699219 27.785156 C 28.945312 23.960938 29.132812 18.699219 26.257812 11.96875 L 26.207031 11.84375 L 27.945312 12.703125 C 31.53125 14.476562 32.316406 14.800781 33.03125 14.800781 C 33.976562 14.800781 33.78125 13.9375 32.472656 12.292969 C 28.519531 7.355469 25.394531 5.925781 21.921875 7.472656 L 21.558594 7.636719 L 21.578125 7.542969 C 21.699219 6.992188 21.761719 5.742188 21.699219 5.164062 C 21.496094 3.296875 20.664062 1.964844 19.003906 0.855469 C 18.480469 0.503906 18.457031 0.5 18.214844 0.632812\"/>\n",
              "</g>\n",
              "      </svg>\n",
              "    "
            ]
          },
          "metadata": {}
        }
      ]
    },
    {
      "cell_type": "code",
      "source": [
        "t.initializeTurtle(initial_speed=5)\n",
        "t.color('blue')\n",
        "t.forward(100)\n",
        "t.right(45)\n",
        "t.color('red')\n",
        "t.forward(50)\n",
        "t.left(50)\n",
        "t.forward(100)\n",
        "t.right(90)\n",
        "t.forward(100)"
      ],
      "metadata": {
        "id": "JeOke2Lj2OVy",
        "outputId": "16b1729d-d8bd-4112-91b1-0c229d210c0c",
        "colab": {
          "base_uri": "https://localhost:8080/",
          "height": 541
        }
      },
      "id": "JeOke2Lj2OVy",
      "execution_count": 58,
      "outputs": [
        {
          "output_type": "display_data",
          "data": {
            "text/plain": [
              "<IPython.core.display.HTML object>"
            ],
            "text/html": [
              "\n",
              "      <svg width=\"800\" height=\"500\">\n",
              "        <rect width=\"100%\" height=\"100%\" fill=\"black\"/>\n",
              "        <line x1=\"400\" y1=\"250\" x2=\"400.0\" y2=\"150.0\" stroke-linecap=\"round\" style=\"stroke:blue;stroke-width:4\"/><line x1=\"400.0\" y1=\"150.0\" x2=\"435.355\" y2=\"114.645\" stroke-linecap=\"round\" style=\"stroke:red;stroke-width:4\"/><line x1=\"435.355\" y1=\"114.645\" x2=\"426.639\" y2=\"15.026\" stroke-linecap=\"round\" style=\"stroke:red;stroke-width:4\"/><line x1=\"426.639\" y1=\"15.026\" x2=\"526.258\" y2=\"6.31\" stroke-linecap=\"round\" style=\"stroke:red;stroke-width:4\"/>\n",
              "        <g visibility=visible transform=\"rotate(445,526.258,6.31) translate(508.25800000000004, -11.690000000000001)\">\n",
              "<path style=\" stroke:none;fill-rule:evenodd;fill:red;fill-opacity:1;\" d=\"M 18.214844 0.632812 C 16.109375 1.800781 15.011719 4.074219 15.074219 7.132812 L 15.085938 7.652344 L 14.785156 7.496094 C 13.476562 6.824219 11.957031 6.671875 10.40625 7.066406 C 8.46875 7.550781 6.515625 9.15625 4.394531 11.992188 C 3.0625 13.777344 2.679688 14.636719 3.042969 15.027344 L 3.15625 15.152344 L 3.519531 15.152344 C 4.238281 15.152344 4.828125 14.886719 8.1875 13.039062 C 9.386719 12.378906 10.371094 11.839844 10.378906 11.839844 C 10.386719 11.839844 10.355469 11.929688 10.304688 12.035156 C 9.832031 13.09375 9.257812 14.820312 8.96875 16.078125 C 7.914062 20.652344 8.617188 24.53125 11.070312 27.660156 C 11.351562 28.015625 11.363281 27.914062 10.972656 28.382812 C 8.925781 30.84375 7.945312 33.28125 8.238281 35.1875 C 8.289062 35.527344 8.28125 35.523438 8.917969 35.523438 C 10.941406 35.523438 13.074219 34.207031 15.136719 31.6875 C 15.359375 31.417969 15.328125 31.425781 15.5625 31.574219 C 16.292969 32.042969 18.023438 32.964844 18.175781 32.964844 C 18.335938 32.964844 19.941406 32.210938 20.828125 31.71875 C 20.996094 31.625 21.136719 31.554688 21.136719 31.558594 C 21.203125 31.664062 21.898438 32.414062 22.222656 32.730469 C 23.835938 34.300781 25.5625 35.132812 27.582031 35.300781 C 27.90625 35.328125 27.9375 35.308594 28.007812 34.984375 C 28.382812 33.242188 27.625 30.925781 25.863281 28.425781 L 25.542969 27.96875 L 25.699219 27.785156 C 28.945312 23.960938 29.132812 18.699219 26.257812 11.96875 L 26.207031 11.84375 L 27.945312 12.703125 C 31.53125 14.476562 32.316406 14.800781 33.03125 14.800781 C 33.976562 14.800781 33.78125 13.9375 32.472656 12.292969 C 28.519531 7.355469 25.394531 5.925781 21.921875 7.472656 L 21.558594 7.636719 L 21.578125 7.542969 C 21.699219 6.992188 21.761719 5.742188 21.699219 5.164062 C 21.496094 3.296875 20.664062 1.964844 19.003906 0.855469 C 18.480469 0.503906 18.457031 0.5 18.214844 0.632812\"/>\n",
              "</g>\n",
              "      </svg>\n",
              "    "
            ]
          },
          "metadata": {}
        }
      ]
    },
    {
      "cell_type": "markdown",
      "source": [
        "## 2. Curve and Surface\n",
        "### Plot a curve\n",
        "See the difference when you change A and B.😊"
      ],
      "metadata": {
        "id": "4z0yXA4LdkD6"
      },
      "id": "4z0yXA4LdkD6"
    },
    {
      "cell_type": "code",
      "execution_count": 59,
      "id": "8d670b8f",
      "metadata": {
        "colab": {
          "base_uri": "https://localhost:8080/",
          "height": 448
        },
        "id": "8d670b8f",
        "outputId": "41a03973-ec2b-47b3-f729-9120ad690f5b"
      },
      "outputs": [
        {
          "output_type": "execute_result",
          "data": {
            "text/plain": [
              "<function matplotlib.pyplot.show(close=None, block=None)>"
            ]
          },
          "metadata": {},
          "execution_count": 59
        },
        {
          "output_type": "display_data",
          "data": {
            "text/plain": [
              "<Figure size 640x480 with 1 Axes>"
            ],
            "image/png": "[encoded data removed]"
          },
          "metadata": {}
        }
      ],
      "source": [
        "import matplotlib.pyplot as plt\n",
        "# Matplotlib.pyplot is a collection of functions that provides a MATLAB-like plotting framework in Python.\n",
        "# In Python, the 'import' statement is used to bring in external modules or libraries into your current Python script.\n",
        "# In this line: To make it easier for us to use the library later, we shortened its name to \"as.\"\n",
        "\n",
        "import numpy as np\n",
        "# Same as the first lane.\n",
        "# Numpy is a powerful library for working with numerical data in Python, providing functionality for performing mathematical operations on arrays and matrices.\n",
        "\n",
        "a=np.linspace(0,10,100)\n",
        "# a=np.linspace(0,20,100) # example ## # Now try to change it by yourself!😊\n",
        "# a=np.linspace(0,10,200) # example ## # Now try to change it by yourself!😊\n",
        "# numpy.linspace() can return an array of evenly spaced numbers within a specified range.\n",
        "# The syntax for the function is as follows:\n",
        "# numpy.linspace(start, stop, num=50, endpoint=True, retstep=False, dtype=None)\n",
        "# The function takes in three required arguments - start(=0), stop(=10), and num(=100).\n",
        "\n",
        "b=np.exp(-a)\n",
        "# b=np.exp(a) # example ## # Now try to change it by yourself!😊\n",
        "# numpy.exp() returns the exponential value of an input array.\n",
        "# The syntax for the function is as follows:\n",
        "# numpy.exp(x, /, out=None, *, where=True, casting='same_kind', order='K', dtype=None, subok=True[, signature, extobj])\n",
        "# The function takes in one required argument - x, which is an array-like object containing the input values.\n",
        "# The function returns an array of the same shape as x, with each element in the output array equal to the exponential value of the corresponding element in the input array.\n",
        "\n",
        "plt.plot(a,b)\n",
        "# Draw the plot: a as the x-axis, b as the y-axis.\n",
        "plt.show\n",
        "# Show or print the plot."
      ]
    },
    {
      "cell_type": "markdown",
      "source": [
        "It's your turn now.😊"
      ],
      "metadata": {
        "id": "ic67NOPTejaA"
      },
      "id": "ic67NOPTejaA"
    },
    {
      "cell_type": "code",
      "execution_count": 60,
      "metadata": {
        "colab": {
          "base_uri": "https://localhost:8080/",
          "height": 448
        },
        "outputId": "ee130091-0cb2-4dca-95e7-3720d9a62e90",
        "id": "SQHOxjtbeUYU"
      },
      "outputs": [
        {
          "output_type": "execute_result",
          "data": {
            "text/plain": [
              "<function matplotlib.pyplot.show(close=None, block=None)>"
            ]
          },
          "metadata": {},
          "execution_count": 60
        },
        {
          "output_type": "display_data",
          "data": {
            "text/plain": [
              "<Figure size 640x480 with 1 Axes>"
            ],
            "image/png": "[encoded data removed]"
          },
          "metadata": {}
        }
      ],
      "source": [
        "import matplotlib.pyplot as plt\n",
        "import numpy as np\n",
        "\n",
        "A=np.linspace(0,10,100)\n",
        "# a=np.linspace(0,20,100) # example ## # Now try to change it by yourself!😊\n",
        "# a=np.linspace(0,10,200) # example ## # Now try to change it by yourself!😊\n",
        "\n",
        "B=np.exp(A)\n",
        "# b=np.exp(-a) # example ## # Now try to change it by yourself!😊\n",
        "\n",
        "plt.plot(A,B)\n",
        "plt.show"
      ],
      "id": "SQHOxjtbeUYU"
    },
    {
      "cell_type": "markdown",
      "source": [
        "### Draw a surface\n",
        "Try to change 'X,Y arange', 'R', 'Z', 'surf', 'view_init'😊"
      ],
      "metadata": {
        "id": "hr0moRw_eGVp"
      },
      "id": "hr0moRw_eGVp"
    },
    {
      "cell_type": "code",
      "execution_count": null,
      "id": "5e842442",
      "metadata": {
        "id": "5e842442"
      },
      "outputs": [],
      "source": [
        "import matplotlib.pyplot as plt\n",
        "# matplotlib.pyplot provide a convenient interface for creating various types of plots and visualizations.\n",
        "# Matplotlib is a popular data visualization library in Python.\n",
        "# Pyplot provides a simple and intuitive way to create and customize plots.\n",
        "\n",
        "from mpl_toolkits.mplot3d import Axes3D\n",
        "# The mpl_toolkits.mplot3d module provides the necessary classes and functions for creating 3D plots.\n",
        "# The Axes3D class provides a 3D plotting space where data can be plotted in three dimensions.\n",
        "\n",
        "import numpy as np\n",
        "# The numpy provides a powerful array and matrix manipulation functionality.\n",
        "# It is often used in conjunction with the Locator and Formatter classes to customize the appearance of tick marks and labels on a plot.\n",
        "# The MultipleLocator class takes a single argument, which is the interval at which ticks should be placed on the axis.\n",
        "\n",
        "from matplotlib.pyplot import MultipleLocator\n",
        "# MultipleLocator provides a way to set the location of ticks on an axis at regular intervals.\n",
        "# Please jump tp 'Build 3D image with Matplotlib. pyplot module'.\n",
        "\n",
        "fig=plt.figure()\n",
        "# Create a new figure object.\n",
        "# The matplotlib.pyplot.figure() creates a new figure object with a specified size and other optional parameters.\n",
        "# It can be used to create a new blank figure or to replace an existing figure.\n",
        "\n",
        "ax=fig.add_axes(Axes3D(fig))\n",
        "# ax=fig.gca(projection='3d')\n",
        "# Add a new set of 3D axes to the figure.\n",
        "# The Axes3D(fig) argument specifies that the new axes should be of the 3D variety.\n",
        "\n",
        "\n",
        "X=np.arange(-5,5,0.25)\n",
        "Y=np.arange(-5,5,0.25)\n",
        "# The numpy.arange() takes three arguments: start, stop, and step.\n",
        "# It returns an array of values that starts at the start value, ends at the stop value (but does not include it) and increments by the step value.\n",
        "\n",
        "X,Y=np.meshgrid(X,Y)\n",
        "# The numpy.meshgrid() returns coordinate matrices from two or more coordinate vectors.\n",
        "# The numpy.meshgrid() takes two or more 1-D arrays and returns two or more N-dimensional coordinate arrays for the input arrays.\n",
        "# These arrays can be used to create a grid of points for plotting 3D surfaces or for performing operations on the grid.\n",
        "\n",
        "R=np.sqrt(X**2+Y**2)\n",
        "# The numpy.sqrt() returns the square root of the input array element-wise.\n",
        "# In Python, we use AAA**n to represent AAA^n(nth power of AAA).\n",
        "\n",
        "Z=np.sin(R)\n",
        "# The numpy.sin() returns the sine of the input array element-wise.\n",
        "\n",
        "surf=ax.plot_surface(X,Y,Z,cmap='viridis')\n",
        "# The plot_surface(X,Y,Z) creates a 3D surface plot from three-dimensional data represented by the X, Y, and Z arrays.\n",
        "# The cmap argument specifies the colormap that is applied to the surface plot.\n",
        "\n",
        "# ax.plot_wireframe(X,Y,Z,color='pink') # example\n",
        "# The plot_wireframe() creates a 3D wireframe plot from three-dimensional data.\n",
        "\n",
        "ax.set_title('Example') # example\n",
        "# Set the title in the plot.\n",
        "\n",
        "ax.view_init(35,35,0) # example\n",
        "# sets the elevation, azimuth and rotation angles of the 3D plot view.\n",
        "\n",
        "plt.show()"
      ]
    },
    {
      "cell_type": "markdown",
      "source": [
        "It's your turn now!😊"
      ],
      "metadata": {
        "id": "gC0QlimHhjVd"
      },
      "id": "gC0QlimHhjVd"
    },
    {
      "cell_type": "code",
      "execution_count": null,
      "metadata": {
        "id": "d5w_locEf7rY"
      },
      "outputs": [],
      "source": [
        "import matplotlib.pyplot as plt\n",
        "from mpl_toolkits.mplot3d import Axes3D\n",
        "import numpy as np\n",
        "from matplotlib.pyplot import MultipleLocator\n",
        "fig=plt.figure()\n",
        "\n",
        "ax=fig.add_axes(Axes3D(fig))\n",
        "X2=np.arange(-10,10,0.25) # Now try to change it by yourself!😊\n",
        "Y2=np.arange(-10,10,0.25) # Now try to change it by yourself!😊\n",
        "X2,Y2=np.meshgrid(X2,Y2)\n",
        "R2=R2=Y2*np.sin(X2)-X2*np.cos(Y2) # Now try to change it by yourself!😊\n",
        "Z2=R2 # Now try to change it by yourself!😊\n",
        "surf=ax.plot_surface(X2,Y2,Z2,cmap='viridis') # Now try to change it by yourself!😊\n",
        "ax.plot_wireframe(X2,Y2,Z2,color='white')  # Now try to change it by yourself!😊\n",
        "ax.set_title('wireframe') # Now try to change it by yourself!😊\n",
        "ax.view_init(40,60,0)  # Now try to change it by yourself!😊\n",
        "\n",
        "plt.show()\n",
        "\n",
        "# Example:\n",
        "# R2=np.sqrt(X2**2+Y2**2) Z2=np.sin(R2)/R2\n",
        "# R2=np.sin(X2)+np.cos(Y2) Z2=np.sqrt(R2)\n",
        "# R2=Y2*np.sin(X2)-X2*np.cos(Y2) Z2=R2"
      ],
      "id": "d5w_locEf7rY"
    }
  ],
  "metadata": {
    "kernelspec": {
      "display_name": "Python 3 (ipykernel)",
      "language": "python",
      "name": "python3"
    },
    "language_info": {
      "codemirror_mode": {
        "name": "ipython",
        "version": 3
      },
      "file_extension": ".py",
      "mimetype": "text/x-python",
      "name": "python",
      "nbconvert_exporter": "python",
      "pygments_lexer": "ipython3",
      "version": "3.9.12"
    },
    "colab": {
      "provenance": []
    }
  },
  "nbformat": 4,
  "nbformat_minor": 5
}